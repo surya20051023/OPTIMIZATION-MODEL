# 1. Import libraries
import pulp as pl
import matplotlib.pyplot as plt

# 2. Define the optimization problem
model = pl.LpProblem("Product_Mix_Optimization", pl.LpMaximize)

# 3. Decision variables
chairs = pl.LpVariable("Chairs", lowBound=0, cat="Continuous")
tables = pl.LpVariable("Tables", lowBound=0, cat="Continuous")

# 4. Objective function (maximize profit)
model += 30 * chairs + 50 * tables, "Total Profit"

# 5. Constraints
model += 3 * chairs + 4 * tables <= 240, "Labor Hours"
model += 2 * chairs + 3 * tables <= 180, "Wood Units"

# 6. Solve the problem
model.solve()

# 7. Results
print("Status:", pl.LpStatus[model.status])
print(f"Optimal Chairs: {pl.value(chairs):.2f}")
print(f"Optimal Tables: {pl.value(tables):.2f}")
print(f"Maximum Profit: ${pl.value(model.objective):.2f}")

# 8. Constraint usage
print("\nConstraint usage:")
for name, constraint in model.constraints.items():
    lhs = pl.value(constraint)
    rhs = constraint.constant
    slack = rhs - lhs
    print(f" - {name}: LHS = {lhs:.2f}, RHS = {rhs:.2f}, slack = {slack:.2f}")

# 9. Visualization of feasible region
import numpy as np

x = np.linspace(0, 100, 200)
labor = (240 - 3*x) / 4
wood = (180 - 2*x) / 3

plt.figure(figsize=(6,6))
plt.plot(x, labor, label="Labor Constraint")
plt.plot(x, wood, label="Wood Constraint")
plt.xlim(0, 80)
plt.ylim(0, 80)
plt.fill_between(x, 0, np.minimum(labor, wood), alpha=0.3)

# Optimal solution point
plt.plot(pl.value(chairs), pl.value(tables), "ro", label="Optimal Solution")
plt.xlabel("Chairs")
plt.ylabel("Tables")
plt.legend()
plt.title("Feasible Region & Optimal Solution")
plt.show()
